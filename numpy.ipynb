{
  "nbformat": 4,
  "nbformat_minor": 0,
  "metadata": {
    "colab": {
      "provenance": [],
      "authorship_tag": "ABX9TyOITYmmyyJr9FteiNRlNzpW",
      "include_colab_link": true
    },
    "kernelspec": {
      "name": "python3",
      "display_name": "Python 3"
    },
    "language_info": {
      "name": "python"
    }
  },
  "cells": [
    {
      "cell_type": "markdown",
      "metadata": {
        "id": "view-in-github",
        "colab_type": "text"
      },
      "source": [
        "<a href=\"https://colab.research.google.com/github/KaiberSo/FoodFactory/blob/main/numpy.ipynb\" target=\"_parent\"><img src=\"https://colab.research.google.com/assets/colab-badge.svg\" alt=\"Open In Colab\"/></a>"
      ]
    },
    {
      "cell_type": "code",
      "execution_count": null,
      "metadata": {
        "id": "MbMVMla14y4B"
      },
      "outputs": [],
      "source": []
    },
    {
      "cell_type": "markdown",
      "source": [
        "NUMPY"
      ],
      "metadata": {
        "id": "rVMeuh0KK5-U"
      }
    },
    {
      "cell_type": "code",
      "source": [
        "import numpy as np\n"
      ],
      "metadata": {
        "id": "hgPW_Wf8K79h"
      },
      "execution_count": 2,
      "outputs": []
    },
    {
      "cell_type": "markdown",
      "source": [
        "NUMPY ARRAY"
      ],
      "metadata": {
        "id": "AQC1SAW4K-3P"
      }
    },
    {
      "cell_type": "code",
      "source": [
        "a=np.array([1,2,3,4])\n",
        "print(a)"
      ],
      "metadata": {
        "colab": {
          "base_uri": "https://localhost:8080/"
        },
        "id": "WL7bWP8ALAvQ",
        "outputId": "816dcd37-b97c-4327-b7a8-a765e4312d11"
      },
      "execution_count": 3,
      "outputs": [
        {
          "output_type": "stream",
          "name": "stdout",
          "text": [
            "[1 2 3 4]\n"
          ]
        }
      ]
    },
    {
      "cell_type": "markdown",
      "source": [
        "2d ARRAY"
      ],
      "metadata": {
        "id": "Mozd4NEXLTVX"
      }
    },
    {
      "cell_type": "code",
      "source": [
        "a=np.array([(1,2,3,4),(2,3,4,5)])\n",
        "print(a)"
      ],
      "metadata": {
        "colab": {
          "base_uri": "https://localhost:8080/"
        },
        "id": "rxCWqq-XLGuk",
        "outputId": "16e625c4-3dba-4282-850a-4f3533169227"
      },
      "execution_count": 4,
      "outputs": [
        {
          "output_type": "stream",
          "name": "stdout",
          "text": [
            "[[1 2 3 4]\n",
            " [2 3 4 5]]\n"
          ]
        }
      ]
    },
    {
      "cell_type": "markdown",
      "source": [
        "3D ARRAY"
      ],
      "metadata": {
        "id": "UlNJSCoWLja6"
      }
    },
    {
      "cell_type": "code",
      "source": [
        "a=np.array([(1,2,3,4),(2,3,4,5),(3,4,5,6)])\n",
        "print(a)"
      ],
      "metadata": {
        "colab": {
          "base_uri": "https://localhost:8080/"
        },
        "id": "aKlFIrRyLk8Y",
        "outputId": "2ee3a3af-edef-44a1-8b2d-d2c416b21165"
      },
      "execution_count": 5,
      "outputs": [
        {
          "output_type": "stream",
          "name": "stdout",
          "text": [
            "[[1 2 3 4]\n",
            " [2 3 4 5]\n",
            " [3 4 5 6]]\n"
          ]
        }
      ]
    },
    {
      "cell_type": "markdown",
      "source": [
        "FLOATING POINT ARRAY"
      ],
      "metadata": {
        "id": "2tzuPIEdLsMJ"
      }
    },
    {
      "cell_type": "code",
      "source": [
        "a=np.array([(1,2,3,4),(2,3,4,5),(3,4,5,6)] , dtype=float)\n",
        "print(a)"
      ],
      "metadata": {
        "colab": {
          "base_uri": "https://localhost:8080/"
        },
        "id": "Mjftav6oLvDp",
        "outputId": "ec65d2ec-a338-40ed-92e9-a14e31e2a8a1"
      },
      "execution_count": 6,
      "outputs": [
        {
          "output_type": "stream",
          "name": "stdout",
          "text": [
            "[[1. 2. 3. 4.]\n",
            " [2. 3. 4. 5.]\n",
            " [3. 4. 5. 6.]]\n"
          ]
        }
      ]
    },
    {
      "cell_type": "markdown",
      "source": [
        "ZERO ARRAY"
      ],
      "metadata": {
        "id": "dTsP1CmhL102"
      }
    },
    {
      "cell_type": "code",
      "source": [
        "a=np.zeros((2,3))\n",
        "print(a)"
      ],
      "metadata": {
        "colab": {
          "base_uri": "https://localhost:8080/"
        },
        "id": "gABeOwojL4if",
        "outputId": "af754451-3dde-4fc7-f7fd-f46bad3e6006"
      },
      "execution_count": 8,
      "outputs": [
        {
          "output_type": "stream",
          "name": "stdout",
          "text": [
            "[[0. 0. 0.]\n",
            " [0. 0. 0.]]\n"
          ]
        }
      ]
    },
    {
      "cell_type": "markdown",
      "source": [
        "ONES ARRAY"
      ],
      "metadata": {
        "id": "oCpplWJeMCQI"
      }
    },
    {
      "cell_type": "code",
      "source": [
        "a=np.ones((4,5))\n",
        "print(a)"
      ],
      "metadata": {
        "colab": {
          "base_uri": "https://localhost:8080/"
        },
        "id": "uF0PwG6IMEMO",
        "outputId": "74954753-d970-4db3-ac07-7047de38cadd"
      },
      "execution_count": 9,
      "outputs": [
        {
          "output_type": "stream",
          "name": "stdout",
          "text": [
            "[[1. 1. 1. 1. 1.]\n",
            " [1. 1. 1. 1. 1.]\n",
            " [1. 1. 1. 1. 1.]\n",
            " [1. 1. 1. 1. 1.]]\n"
          ]
        }
      ]
    },
    {
      "cell_type": "markdown",
      "source": [
        "INDENTITY MATRIX"
      ],
      "metadata": {
        "id": "BylrbL0GMVbM"
      }
    },
    {
      "cell_type": "code",
      "source": [
        "a=np.eye(5)\n",
        "print(a)"
      ],
      "metadata": {
        "colab": {
          "base_uri": "https://localhost:8080/"
        },
        "id": "QQ6bVDdKMbSm",
        "outputId": "13186d38-425e-48a2-af05-f7f2607d1a28"
      },
      "execution_count": 12,
      "outputs": [
        {
          "output_type": "stream",
          "name": "stdout",
          "text": [
            "[[1. 0. 0. 0. 0.]\n",
            " [0. 1. 0. 0. 0.]\n",
            " [0. 0. 1. 0. 0.]\n",
            " [0. 0. 0. 1. 0.]\n",
            " [0. 0. 0. 0. 1.]]\n"
          ]
        }
      ]
    },
    {
      "cell_type": "markdown",
      "source": [
        "EVENLY SPACE VALUE"
      ],
      "metadata": {
        "id": "1O-dFtP9MqW5"
      }
    },
    {
      "cell_type": "code",
      "source": [
        "a=np.linspace(0,20,4)\n",
        "print(a)"
      ],
      "metadata": {
        "colab": {
          "base_uri": "https://localhost:8080/"
        },
        "id": "MwNrc56QMudD",
        "outputId": "58b31890-2766-49fa-d40c-3bb2ce14c64a"
      },
      "execution_count": 14,
      "outputs": [
        {
          "output_type": "stream",
          "name": "stdout",
          "text": [
            "[ 0.          6.66666667 13.33333333 20.        ]\n"
          ]
        }
      ]
    },
    {
      "cell_type": "markdown",
      "source": [
        "ARRAY FROM RANDOM VALUE"
      ],
      "metadata": {
        "id": "bntGSrzlNXcv"
      }
    },
    {
      "cell_type": "markdown",
      "source": [
        "2 is row and 3 is column"
      ],
      "metadata": {
        "id": "h2oXcxPMNqW8"
      }
    },
    {
      "cell_type": "code",
      "source": [
        "a=np.random.random((2,3))\n",
        "print(a)"
      ],
      "metadata": {
        "colab": {
          "base_uri": "https://localhost:8080/"
        },
        "id": "H4ZZ9c56NadX",
        "outputId": "6a2a6638-fc52-4dc6-952f-b63efd537924"
      },
      "execution_count": 17,
      "outputs": [
        {
          "output_type": "stream",
          "name": "stdout",
          "text": [
            "[[0.48607842 0.19055055 0.12068447]\n",
            " [0.23424283 0.34366282 0.63114404]]\n"
          ]
        }
      ]
    },
    {
      "cell_type": "markdown",
      "source": [
        "RANDOM VALUE INTEGER"
      ],
      "metadata": {
        "id": "Z7yHJXm2NwM9"
      }
    },
    {
      "cell_type": "markdown",
      "source": [
        "0 is starting number 100 is ending and 3 and 4 are row and column"
      ],
      "metadata": {
        "id": "rBLg7zkGOBjq"
      }
    },
    {
      "cell_type": "code",
      "source": [
        "a=np.random.randint(0,100,(3,4))\n",
        "print(a)"
      ],
      "metadata": {
        "colab": {
          "base_uri": "https://localhost:8080/"
        },
        "id": "9j3WZWU5Nx_l",
        "outputId": "c92ea060-51fa-4649-b1a9-628710d77896"
      },
      "execution_count": 19,
      "outputs": [
        {
          "output_type": "stream",
          "name": "stdout",
          "text": [
            "[[63 82 56 16]\n",
            " [91 41 30 14]\n",
            " [ 8 58 29  4]]\n"
          ]
        }
      ]
    },
    {
      "cell_type": "markdown",
      "source": [
        "LIST TO NUMPY ARRAY"
      ],
      "metadata": {
        "id": "VtrU3VyqOI-w"
      }
    },
    {
      "cell_type": "code",
      "source": [
        "list1=[1,2,3,4,5]\n",
        "print (list1)\n",
        "type(list1)\n",
        "\n",
        "a=np.asarray(list1)\n",
        "print(a)\n",
        "type(a)"
      ],
      "metadata": {
        "colab": {
          "base_uri": "https://localhost:8080/"
        },
        "id": "ZpbAR4v2OWAy",
        "outputId": "63d49e5c-e844-4ac4-86c9-7c0b2e13e82f"
      },
      "execution_count": 24,
      "outputs": [
        {
          "output_type": "stream",
          "name": "stdout",
          "text": [
            "[1, 2, 3, 4, 5]\n",
            "[1 2 3 4 5]\n"
          ]
        },
        {
          "output_type": "execute_result",
          "data": {
            "text/plain": [
              "numpy.ndarray"
            ]
          },
          "metadata": {},
          "execution_count": 24
        }
      ]
    },
    {
      "cell_type": "markdown",
      "source": [
        "ARRAY DIMENSION\n",
        "NO OF DIMENSION\n",
        "SIZE OF ELEMENTS"
      ],
      "metadata": {
        "id": "y_cmK92YO5RS"
      }
    },
    {
      "cell_type": "code",
      "source": [
        "a=np.random.randint(1,20,(3,4))\n",
        "print(a)\n",
        "\n",
        "print(a.shape)\n",
        "\n",
        "print(a.ndim)\n",
        "\n",
        "print(a.size)\n"
      ],
      "metadata": {
        "colab": {
          "base_uri": "https://localhost:8080/"
        },
        "id": "GOtQj4OHPDuL",
        "outputId": "a78818a7-ee5a-4ecf-cbd8-9c7721457d95"
      },
      "execution_count": 25,
      "outputs": [
        {
          "output_type": "stream",
          "name": "stdout",
          "text": [
            "[[17 13  2 19]\n",
            " [ 5  9 13  4]\n",
            " [19 17  3 18]]\n",
            "(3, 4)\n",
            "2\n",
            "12\n"
          ]
        }
      ]
    },
    {
      "cell_type": "markdown",
      "source": [],
      "metadata": {
        "id": "j-jrgz81Pe91"
      }
    },
    {
      "cell_type": "markdown",
      "source": [
        "ADDITION\n",
        "SUB\n",
        "MUL\n",
        "DIV"
      ],
      "metadata": {
        "id": "rRvmpIN0PcMa"
      }
    },
    {
      "cell_type": "code",
      "source": [
        "a=np.random.randint(10,20,(3,4))\n",
        "b=np.random.randint(10,20,(3,4))\n",
        "\n",
        "print(a+b)\n",
        "print(a-b)\n",
        "print(a*b)\n",
        "print(a/b)"
      ],
      "metadata": {
        "colab": {
          "base_uri": "https://localhost:8080/"
        },
        "id": "CrZ1jVYPPjGi",
        "outputId": "84e2e1a8-9698-4078-f28b-c07f66200a4c"
      },
      "execution_count": 26,
      "outputs": [
        {
          "output_type": "stream",
          "name": "stdout",
          "text": [
            "[[30 34 31 38]\n",
            " [24 25 31 37]\n",
            " [28 35 29 30]]\n",
            "[[-8 -4 -3  0]\n",
            " [ 0 -3  1  1]\n",
            " [-8 -3  7 -8]]\n",
            "[[209 285 238 361]\n",
            " [144 154 240 342]\n",
            " [180 304 198 209]]\n",
            "[[0.57894737 0.78947368 0.82352941 1.        ]\n",
            " [1.         0.78571429 1.06666667 1.05555556]\n",
            " [0.55555556 0.84210526 1.63636364 0.57894737]]\n"
          ]
        }
      ]
    }
  ]
}